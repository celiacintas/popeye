{
 "metadata": {
  "name": ""
 },
 "nbformat": 3,
 "nbformat_minor": 0,
 "worksheets": [
  {
   "cells": [
    {
     "cell_type": "code",
     "collapsed": false,
     "input": [
      "import matplotlib.pyplot as plt\n",
      "import pandas as pd\n",
      "import glob\n",
      "import re\n",
      "import numpy as np"
     ],
     "language": "python",
     "metadata": {},
     "outputs": [],
     "prompt_number": 1
    },
    {
     "cell_type": "heading",
     "level": 4,
     "metadata": {},
     "source": [
      "Create empty TPS for manual test"
     ]
    },
    {
     "cell_type": "code",
     "collapsed": false,
     "input": [
      "di = glob.glob('*.JPG')\n",
      "lines = map(lambda i: ('LM=0\\n' + 'IMAGE='+ i + '\\n'), di)\n",
      "f = file('empty_tps.tps', 'w')\n",
      "f.writelines(lines)\n",
      "f.close()"
     ],
     "language": "python",
     "metadata": {},
     "outputs": [],
     "prompt_number": 2
    },
    {
     "cell_type": "heading",
     "level": 4,
     "metadata": {},
     "source": [
      "TPS file to txt"
     ]
    },
    {
     "cell_type": "code",
     "collapsed": false,
     "input": [
      "f_in = open('indv2_20_mayo_tpsdig.tps', 'r')\n",
      "lines = f_in.readlines()\n",
      "lines = map(lambda i: i.strip(), lines)\n",
      "newlines = []\n",
      "for i in range(20):\n",
      "    temp = lines[i * 15 +1 :i * 15 + 13]\n",
      "    newlines.append(lines[i * 15 + 13] + ' ' + ' '.join(temp))\n",
      "    #print lines[i * 15 + 13] + ' ' + ' '.join(temp)\n",
      "    \n",
      "# Change names with JPG extension to none\n",
      "m = re.findall('IMAGE=(.+?).JPG', ''.join(newlines))\n",
      "for i in range(len(newlines)):\n",
      "    newlines[i] = re.sub('IMAGE=(.+?).JPG', m[i], newlines[i]) + '\\n'\n",
      "\n",
      "# Save txt file\n",
      "f_out = open('indv2_to_txt_FMP.txt', 'w')\n",
      "f_out.writelines(newlines)\n"
     ],
     "language": "python",
     "metadata": {},
     "outputs": [],
     "prompt_number": 157
    },
    {
     "cell_type": "heading",
     "level": 4,
     "metadata": {},
     "source": [
      "Intra (Fully Manual Placement vs Automatic Placement Edition)"
     ]
    },
    {
     "cell_type": "code",
     "collapsed": false,
     "input": [
      "# Automatic Placement and after Edition\n",
      "ape_indv_1 = pd.read_csv('indv1_20_mayo_popeye.txt', sep=' ', header=None)\n",
      "fmp_indv_1 = pd.read_csv('indv1_to_txt_FMP.txt', sep=' ', header=None)\n",
      "ape_popeye = pd.read_csv('pure_popeye.txt', sep=' ', header=None) # este se encuentra como sale AP sin edicion\n",
      "\n",
      "merged_fmp_ape = pd.merge(fmp_indv_1, ape_indv_1, on=0)\n",
      "merged_fmp_ape_popeye = pd.merge(fmp_indv_1, ape_popeye, on=0)\n",
      "\n",
      "ape_indv_1 = merged_fmp_ape.ix[:, 25:49]\n",
      "ape_indv_1 = ape_indv_1.astype(np.float)\n",
      "ape_indv_1 = ape_indv_1.values.reshape((12*20, 2))\n",
      "\n",
      "fmp_indv_1 = merged_fmp_ape.ix[:,1:25]\n",
      "fmp_indv_1 = fmp_indv_1.astype(np.float)\n",
      "fmp_indv_1 = fmp_indv_1.values.reshape((12*20, 2))\n",
      "\n",
      "ape_popeye = merged_fmp_ape_popeye.ix[:, 25:49]\n",
      "ape_popeye = ape_popeye.astype(np.float)\n",
      "ape_popeye = ape_popeye.values.reshape((12*20, 2))\n"
     ],
     "language": "python",
     "metadata": {},
     "outputs": [],
     "prompt_number": 149
    },
    {
     "cell_type": "code",
     "collapsed": false,
     "input": [
      "print \"Variance INTRA FMP vs APE\"\n",
      "print \"FMP average variance x,y: %f\" % (np.average([np.var(fmp_indv_1[:,0]),np.var(fmp_indv_1[:,1])]))\n",
      "print \"APE average variance x,y: %f\" % (np.average([np.var(ape_indv_1[:,0]),np.var(ape_indv_1[:,1])]))\n",
      "print \"AP average variance x,y: %f\" % (np.average([np.var(ape_popeye[:,0]),np.var(ape_popeye[:,1])]))"
     ],
     "language": "python",
     "metadata": {},
     "outputs": [
      {
       "output_type": "stream",
       "stream": "stdout",
       "text": [
        "Variance INTRA FMP vs APE\n",
        "FMP average variance x,y: 20602.094358\n",
        "APE average variance x,y: 20091.364887\n",
        "AP average variance x,y: 20275.712187\n"
       ]
      }
     ],
     "prompt_number": 150
    },
    {
     "cell_type": "markdown",
     "metadata": {},
     "source": [
      "TPSdig has the origin at (0,0) lower left .. and commonly is finded at lower top, so we apply a fuction to change the values of y"
     ]
    },
    {
     "cell_type": "code",
     "collapsed": false,
     "input": [
      "def inverse(y):\n",
      "    return 3216 - y\n",
      "\n",
      "vecfunc = np.vectorize(inverse)\n",
      "arr = vecfunc(fmp_indv_1[:,1])"
     ],
     "language": "python",
     "metadata": {},
     "outputs": [],
     "prompt_number": 151
    },
    {
     "cell_type": "markdown",
     "metadata": {},
     "source": [
      "Calculate distances between landmarks"
     ]
    },
    {
     "cell_type": "code",
     "collapsed": false,
     "input": [
      "from numpy import sqrt\n",
      "from itertools import combinations\n",
      " \n",
      "funcDistancia = lambda x0, x1, y0, y1: sqrt((x1 - x0) ** 2 +\n",
      "                                                    (y1 - y0) ** 2)\n"
     ],
     "language": "python",
     "metadata": {},
     "outputs": [],
     "prompt_number": 152
    },
    {
     "cell_type": "code",
     "collapsed": false,
     "input": [
      "#combinaciones = list(combinations(fmp_indv_1, 2))\n",
      "combinaciones = list(combinations(ape_popeye, 2))\n",
      "#distances_indv1 = []\n",
      "distances_popeye = []\n",
      "for c in combinaciones:\n",
      "    distances_popeye.append(funcDistancia(c[0][0], c[1][0],\n",
      "                             c[0][1], c[1][1]))"
     ],
     "language": "python",
     "metadata": {},
     "outputs": [],
     "prompt_number": 153
    },
    {
     "cell_type": "markdown",
     "metadata": {},
     "source": [
      "Applay pearson correlation between the distances calculates of the landmarks FMP and the AP"
     ]
    },
    {
     "cell_type": "code",
     "collapsed": false,
     "input": [
      "from scipy.stats import pearsonr\n",
      "\n",
      "pear_result = pearsonr(distances_popeye, distances_indv1)\n",
      "print \"mean of distances AP and FMP: \",np.mean(distances_popeye), np.mean(distances_indv1)\n",
      "print pear_result\n",
      "plt.plot(r_celia, r_popeye, 'or',  label=r'First-order coherence function $g^{(1)}(\\tau)$')\n",
      "\n",
      "plt.title(\"Pearson Correlation between FMP and AP distances\")\n",
      "plt.xlabel(\"Euclidean distances to all landmarks FMP\")\n",
      "plt.ylabel(\"Euclidean distances to all landmarks AP\")\n",
      "plt.text(100, 650, r'$\\rho$ = %.6f' % (pear_result[0]), fontsize=12)\n",
      "plt.savefig('corr.jpg', dpi=300)"
     ],
     "language": "python",
     "metadata": {},
     "outputs": [
      {
       "output_type": "stream",
       "stream": "stdout",
       "text": [
        "mean of distances AP and FMP:  253.022298124 255.233289049\n",
        "(0.99332614460832314, 0.0)\n"
       ]
      }
     ],
     "prompt_number": 160
    },
    {
     "cell_type": "heading",
     "level": 4,
     "metadata": {},
     "source": [
      "Inter Observer FMP"
     ]
    },
    {
     "cell_type": "code",
     "collapsed": false,
     "input": [
      "# Fully manual placement \n",
      "fmp_indv1_df = pd.read_csv('indv1_to_txt_FMP.txt', sep=' ', header=None)\n",
      "fmp_indv2_df = pd.read_csv('indv2_to_txt_FMP.txt', sep=' ', header=None)\n",
      "\n",
      "merged_fmp_1_2 = pd.merge(fmp_indv2_df, fmp_indv1_df, on=0)\n",
      "fmp_indv2 = merged_fmp_1_2.ix[:,1:25]\n",
      "fmp_indv2 = fmp_indv2.astype(np.float)\n",
      "print fmp_indv2.values.shape\n",
      "fmp_indv2 = fmp_indv2.values.reshape((12*20, 2))\n",
      "\n",
      "fmp_indv1 = merged_fmp_1_2.ix[:, 25:49]\n",
      "fmp_indv1 = fmp_indv1.astype(np.float)\n",
      "fmp_indv1 = fmp_indv1.values.reshape((12*20, 2))\n",
      "\n",
      "print \"Variance in x y INTER - FMP\"\n",
      "print \"indv_2: \", np.average([np.var(fmp_indv2[:,0]),np.var(fmp_indv2[:, 1])])\n",
      "print \"indv_1: \", np.average([np.var(fmp_indv1[:,0]),np.var(fmp_indv1[:,1])])"
     ],
     "language": "python",
     "metadata": {},
     "outputs": [
      {
       "output_type": "stream",
       "stream": "stdout",
       "text": [
        "(20, 24)\n",
        "Variance in x y INTER - FMP\n",
        "indv_2:  20210.0763108\n",
        "indv_1:  20602.0943576\n"
       ]
      }
     ],
     "prompt_number": 159
    }
   ],
   "metadata": {}
  }
 ]
}